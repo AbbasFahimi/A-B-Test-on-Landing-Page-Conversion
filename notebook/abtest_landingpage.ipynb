{
 "cells": [
  {
   "cell_type": "markdown",
   "id": "b6f47eab-a2c9-4330-9072-16a6a878b476",
   "metadata": {},
   "source": [
    "### importing libraries and reading the data"
   ]
  },
  {
   "cell_type": "code",
   "execution_count": 1,
   "id": "c655d59b-7c01-4065-9e05-165b179b71c5",
   "metadata": {},
   "outputs": [],
   "source": [
    "import pandas as pd\n",
    "import matplotlib.pyplot as plt\n",
    "import seaborn as sns"
   ]
  },
  {
   "cell_type": "code",
   "execution_count": 2,
   "id": "f6520175-b67b-4219-8527-0b029ac081e8",
   "metadata": {},
   "outputs": [
    {
     "data": {
      "text/html": [
       "<div>\n",
       "<style scoped>\n",
       "    .dataframe tbody tr th:only-of-type {\n",
       "        vertical-align: middle;\n",
       "    }\n",
       "\n",
       "    .dataframe tbody tr th {\n",
       "        vertical-align: top;\n",
       "    }\n",
       "\n",
       "    .dataframe thead th {\n",
       "        text-align: right;\n",
       "    }\n",
       "</style>\n",
       "<table border=\"1\" class=\"dataframe\">\n",
       "  <thead>\n",
       "    <tr style=\"text-align: right;\">\n",
       "      <th></th>\n",
       "      <th>user_id</th>\n",
       "      <th>timestamp</th>\n",
       "      <th>group</th>\n",
       "      <th>landing_page</th>\n",
       "      <th>converted</th>\n",
       "    </tr>\n",
       "  </thead>\n",
       "  <tbody>\n",
       "    <tr>\n",
       "      <th>0</th>\n",
       "      <td>851104</td>\n",
       "      <td>2017-01-21 22:11:48.556739</td>\n",
       "      <td>control</td>\n",
       "      <td>old_page</td>\n",
       "      <td>0</td>\n",
       "    </tr>\n",
       "    <tr>\n",
       "      <th>1</th>\n",
       "      <td>804228</td>\n",
       "      <td>2017-01-12 08:01:45.159739</td>\n",
       "      <td>control</td>\n",
       "      <td>old_page</td>\n",
       "      <td>0</td>\n",
       "    </tr>\n",
       "    <tr>\n",
       "      <th>2</th>\n",
       "      <td>661590</td>\n",
       "      <td>2017-01-11 16:55:06.154213</td>\n",
       "      <td>treatment</td>\n",
       "      <td>new_page</td>\n",
       "      <td>0</td>\n",
       "    </tr>\n",
       "    <tr>\n",
       "      <th>3</th>\n",
       "      <td>853541</td>\n",
       "      <td>2017-01-08 18:28:03.143765</td>\n",
       "      <td>treatment</td>\n",
       "      <td>new_page</td>\n",
       "      <td>0</td>\n",
       "    </tr>\n",
       "    <tr>\n",
       "      <th>4</th>\n",
       "      <td>864975</td>\n",
       "      <td>2017-01-21 01:52:26.210827</td>\n",
       "      <td>control</td>\n",
       "      <td>old_page</td>\n",
       "      <td>1</td>\n",
       "    </tr>\n",
       "  </tbody>\n",
       "</table>\n",
       "</div>"
      ],
      "text/plain": [
       "   user_id                   timestamp      group landing_page  converted\n",
       "0   851104  2017-01-21 22:11:48.556739    control     old_page          0\n",
       "1   804228  2017-01-12 08:01:45.159739    control     old_page          0\n",
       "2   661590  2017-01-11 16:55:06.154213  treatment     new_page          0\n",
       "3   853541  2017-01-08 18:28:03.143765  treatment     new_page          0\n",
       "4   864975  2017-01-21 01:52:26.210827    control     old_page          1"
      ]
     },
     "execution_count": 2,
     "metadata": {},
     "output_type": "execute_result"
    }
   ],
   "source": [
    "df=pd.read_csv('../data/ab_data.csv')\n",
    "df.head()"
   ]
  },
  {
   "cell_type": "markdown",
   "id": "0c056b86-689c-4f29-abd0-266e56d58f55",
   "metadata": {},
   "source": [
    "### checking for missing values and other problems in dataset"
   ]
  },
  {
   "cell_type": "code",
   "execution_count": 3,
   "id": "8ddd7055-94a1-4d4d-bf81-a1ca1106dc62",
   "metadata": {},
   "outputs": [
    {
     "data": {
      "text/plain": [
       "user_id         0\n",
       "timestamp       0\n",
       "group           0\n",
       "landing_page    0\n",
       "converted       0\n",
       "dtype: int64"
      ]
     },
     "execution_count": 3,
     "metadata": {},
     "output_type": "execute_result"
    }
   ],
   "source": [
    "df.isna().sum()"
   ]
  },
  {
   "cell_type": "code",
   "execution_count": 4,
   "id": "8cdb427f-9bf5-4950-b69c-31184874be03",
   "metadata": {},
   "outputs": [
    {
     "name": "stdout",
     "output_type": "stream",
     "text": [
      "<class 'pandas.core.frame.DataFrame'>\n",
      "RangeIndex: 294478 entries, 0 to 294477\n",
      "Data columns (total 5 columns):\n",
      " #   Column        Non-Null Count   Dtype \n",
      "---  ------        --------------   ----- \n",
      " 0   user_id       294478 non-null  int64 \n",
      " 1   timestamp     294478 non-null  object\n",
      " 2   group         294478 non-null  object\n",
      " 3   landing_page  294478 non-null  object\n",
      " 4   converted     294478 non-null  int64 \n",
      "dtypes: int64(2), object(3)\n",
      "memory usage: 11.2+ MB\n"
     ]
    }
   ],
   "source": [
    "df.info()"
   ]
  },
  {
   "cell_type": "markdown",
   "id": "a7fe109a-58f2-4b59-a804-c3484c29ca57",
   "metadata": {},
   "source": [
    "### cleaning dataset\n",
    "\n",
    "##### Removing rows where group and landing_page don't match\n",
    "##### e.g., control group with new_page or treatment with old_page\n",
    "\n",
    "##### Removing duplicate user_ids to ensure independence of observations"
   ]
  },
  {
   "cell_type": "code",
   "execution_count": 5,
   "id": "a8f58f85-96ab-45a5-b65e-012bf2d31044",
   "metadata": {},
   "outputs": [
    {
     "data": {
      "text/plain": [
       "(1928, 5)"
      ]
     },
     "execution_count": 5,
     "metadata": {},
     "output_type": "execute_result"
    }
   ],
   "source": [
    "df[(df['group']=='control')&(df['landing_page']=='new_page')].shape"
   ]
  },
  {
   "cell_type": "code",
   "execution_count": 6,
   "id": "7d7405e8-60e7-4ced-8e4e-9e800a207397",
   "metadata": {},
   "outputs": [
    {
     "data": {
      "text/plain": [
       "(1965, 5)"
      ]
     },
     "execution_count": 6,
     "metadata": {},
     "output_type": "execute_result"
    }
   ],
   "source": [
    "df[(df['group']=='treatment')&(df['landing_page']=='old_page')].shape"
   ]
  },
  {
   "cell_type": "code",
   "execution_count": 7,
   "id": "e0c8554f-ff8c-461e-b0e1-9a4c29cafe1b",
   "metadata": {},
   "outputs": [],
   "source": [
    "df=df[((df['group']=='control')&(df['landing_page']=='old_page'))|((df['group']=='treatment')&(df['landing_page']=='new_page'))]"
   ]
  },
  {
   "cell_type": "code",
   "execution_count": 8,
   "id": "ef239dc0-17d3-43d9-8ea3-70d8cd4839a9",
   "metadata": {},
   "outputs": [
    {
     "data": {
      "text/plain": [
       "(290585, 5)"
      ]
     },
     "execution_count": 8,
     "metadata": {},
     "output_type": "execute_result"
    }
   ],
   "source": [
    "df.shape"
   ]
  },
  {
   "cell_type": "code",
   "execution_count": 9,
   "id": "f9fed1c7-0a8e-472e-85c6-89598ad29ac5",
   "metadata": {},
   "outputs": [
    {
     "data": {
      "text/plain": [
       "290584"
      ]
     },
     "execution_count": 9,
     "metadata": {},
     "output_type": "execute_result"
    }
   ],
   "source": [
    "df.user_id.nunique()"
   ]
  },
  {
   "cell_type": "code",
   "execution_count": 10,
   "id": "8e9bd7b4-1d00-4fab-a886-8e14dba63628",
   "metadata": {},
   "outputs": [
    {
     "data": {
      "text/html": [
       "<div>\n",
       "<style scoped>\n",
       "    .dataframe tbody tr th:only-of-type {\n",
       "        vertical-align: middle;\n",
       "    }\n",
       "\n",
       "    .dataframe tbody tr th {\n",
       "        vertical-align: top;\n",
       "    }\n",
       "\n",
       "    .dataframe thead th {\n",
       "        text-align: right;\n",
       "    }\n",
       "</style>\n",
       "<table border=\"1\" class=\"dataframe\">\n",
       "  <thead>\n",
       "    <tr style=\"text-align: right;\">\n",
       "      <th></th>\n",
       "      <th>user_id</th>\n",
       "      <th>timestamp</th>\n",
       "      <th>group</th>\n",
       "      <th>landing_page</th>\n",
       "      <th>converted</th>\n",
       "    </tr>\n",
       "  </thead>\n",
       "  <tbody>\n",
       "    <tr>\n",
       "      <th>2893</th>\n",
       "      <td>773192</td>\n",
       "      <td>2017-01-14 02:55:59.590927</td>\n",
       "      <td>treatment</td>\n",
       "      <td>new_page</td>\n",
       "      <td>0</td>\n",
       "    </tr>\n",
       "  </tbody>\n",
       "</table>\n",
       "</div>"
      ],
      "text/plain": [
       "      user_id                   timestamp      group landing_page  converted\n",
       "2893   773192  2017-01-14 02:55:59.590927  treatment     new_page          0"
      ]
     },
     "execution_count": 10,
     "metadata": {},
     "output_type": "execute_result"
    }
   ],
   "source": [
    "df[df.duplicated(subset=['user_id'])]"
   ]
  },
  {
   "cell_type": "code",
   "execution_count": 11,
   "id": "e6d98311-3025-437e-81de-b89da8668e53",
   "metadata": {},
   "outputs": [],
   "source": [
    "df=df[~df.duplicated(subset=['user_id'])]"
   ]
  },
  {
   "cell_type": "code",
   "execution_count": 12,
   "id": "e8d39f48-4c8f-480e-9220-e286ec77c79a",
   "metadata": {},
   "outputs": [
    {
     "data": {
      "text/plain": [
       "(290584, 5)"
      ]
     },
     "execution_count": 12,
     "metadata": {},
     "output_type": "execute_result"
    }
   ],
   "source": [
    "df.shape"
   ]
  },
  {
   "cell_type": "markdown",
   "id": "f49b79b1-0aa6-419c-872e-ad82457f4148",
   "metadata": {},
   "source": [
    "### finding the difference between group A and group B"
   ]
  },
  {
   "cell_type": "code",
   "execution_count": 13,
   "id": "3178398f-78a8-47f2-9e20-1a2a87f1e074",
   "metadata": {},
   "outputs": [
    {
     "name": "stdout",
     "output_type": "stream",
     "text": [
      "Treatment group mean:  0.11880806551510564\n",
      "Control group mean:  0.1203863045004612\n",
      "difference between new and old pages:  -0.0015782389853555567\n"
     ]
    }
   ],
   "source": [
    "treatment_mean=df[df['group']=='treatment']['converted'].mean()\n",
    "control_mean=df[df['group']=='control']['converted'].mean()\n",
    "print('Treatment group mean: ',treatment_mean)\n",
    "print('Control group mean: ',control_mean)\n",
    "print('difference between new and old pages: ',treatment_mean - control_mean)"
   ]
  },
  {
   "cell_type": "code",
   "execution_count": 14,
   "id": "6ab80b2c-f534-478a-8142-c5214b960111",
   "metadata": {},
   "outputs": [
    {
     "data": {
      "image/png": "[encoded data removed]",
      "text/plain": [
       "<Figure size 300x400 with 1 Axes>"
      ]
     },
     "metadata": {},
     "output_type": "display_data"
    }
   ],
   "source": [
    "fig,ax=plt.subplots(figsize=(3,4))\n",
    "sns.barplot(data=df,x='group',y='converted',hue='group',ax=ax)\n",
    "plt.savefig('../images/barplot.png')"
   ]
  },
  {
   "cell_type": "markdown",
   "id": "ed31ebea-a669-4d29-8f14-1df38803ab96",
   "metadata": {},
   "source": [
    "##### We can see that the conversion rate has decreased using the new page\n",
    "##### we now need to test if this small drop is statistically meaningful"
   ]
  },
  {
   "cell_type": "markdown",
   "id": "517d01b6-3569-4d3f-a3ce-37ec48fbd452",
   "metadata": {},
   "source": [
    "### testing if the difference is statistically meaningful or not\n",
    "##### H0 = There is no statistically significant difference in conversion rates.\n",
    "##### H1 = There is a statistically significant difference in conversion rates.\n",
    "##### alfa = 0.05"
   ]
  },
  {
   "cell_type": "code",
   "execution_count": 15,
   "id": "98708d51-7acd-4a6b-a9da-08dde4106961",
   "metadata": {},
   "outputs": [
    {
     "name": "stdout",
     "output_type": "stream",
     "text": [
      "converted\n",
      "0    127785\n",
      "1     17489\n",
      "Name: count, dtype: int64\n",
      "converted\n",
      "0    128046\n",
      "1     17264\n",
      "Name: count, dtype: int64\n"
     ]
    }
   ],
   "source": [
    "print(df[df['group']=='control']['converted'].value_counts())\n",
    "print(df[df['group']=='treatment']['converted'].value_counts())\n"
   ]
  },
  {
   "cell_type": "code",
   "execution_count": 16,
   "id": "da9a59dc-953c-426b-97ef-16c94c1ea60f",
   "metadata": {},
   "outputs": [
    {
     "name": "stdout",
     "output_type": "stream",
     "text": [
      "stat=  1.3109241984234394\n",
      "pval=  0.18988337448195103\n"
     ]
    }
   ],
   "source": [
    "from statsmodels.stats.proportion import proportions_ztest\n",
    "count=[df[df['group']=='control']['converted'].sum(),df[df['group']=='treatment']['converted'].sum()]\n",
    "nobs=[df[df['group']=='control']['converted'].count(),df[df['group']=='treatment']['converted'].count()]\n",
    "stat,pval=proportions_ztest(count,nobs)\n",
    "print('stat= ',stat)\n",
    "print('pval= ',pval)"
   ]
  },
  {
   "cell_type": "code",
   "execution_count": 17,
   "id": "1450a3ac-6831-456d-86d7-d1c7075adbaa",
   "metadata": {},
   "outputs": [
    {
     "name": "stdout",
     "output_type": "stream",
     "text": [
      "Fail to Reject H0: No statistically significant difference found.\n"
     ]
    }
   ],
   "source": [
    "if pval < 0.05:\n",
    "    print(\"Reject H0: There is a statistically significant difference in conversion rates.\")\n",
    "else:\n",
    "    print(\"Fail to Reject H0: No statistically significant difference found.\")"
   ]
  }
 ],
 "metadata": {
  "kernelspec": {
   "display_name": "Python 3 (ipykernel)",
   "language": "python",
   "name": "python3"
  },
  "language_info": {
   "codemirror_mode": {
    "name": "ipython",
    "version": 3
   },
   "file_extension": ".py",
   "mimetype": "text/x-python",
   "name": "python",
   "nbconvert_exporter": "python",
   "pygments_lexer": "ipython3",
   "version": "3.12.7"
  }
 },
 "nbformat": 4,
 "nbformat_minor": 5
}
